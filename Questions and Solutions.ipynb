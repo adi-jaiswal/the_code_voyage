{
 "cells": [
  {
   "cell_type": "markdown",
   "id": "c39df3b6",
   "metadata": {},
   "source": [
    "#### 1 . Write a fun which will take string and return a len of it without using a inbuilt fun len."
   ]
  },
  {
   "cell_type": "code",
   "execution_count": 129,
   "id": "f3ea8eb5",
   "metadata": {},
   "outputs": [],
   "source": [
    "def get_length(a):\n",
    "    try:\n",
    "        count = 0\n",
    "        if type(a) == str:\n",
    "            for i in a:\n",
    "                count = count + 1\n",
    "        else:\n",
    "            print(\"You have not entered a string\")\n",
    "        return \"Length of the string\", count\n",
    "    except Exception as e:\n",
    "        print(e)"
   ]
  },
  {
   "cell_type": "code",
   "execution_count": 131,
   "id": "7cadeffb",
   "metadata": {
    "scrolled": true
   },
   "outputs": [
    {
     "data": {
      "text/plain": [
       "('Length of the string', 3)"
      ]
     },
     "execution_count": 131,
     "metadata": {},
     "output_type": "execute_result"
    }
   ],
   "source": [
    "get_length(\"adi\")"
   ]
  },
  {
   "cell_type": "code",
   "execution_count": 132,
   "id": "5ed92d6b",
   "metadata": {},
   "outputs": [
    {
     "name": "stdout",
     "output_type": "stream",
     "text": [
      "You have not entered a string\n"
     ]
    },
    {
     "data": {
      "text/plain": [
       "('Length of the string', 0)"
      ]
     },
     "execution_count": 132,
     "metadata": {},
     "output_type": "execute_result"
    }
   ],
   "source": [
    "get_length(123)"
   ]
  },
  {
   "cell_type": "markdown",
   "id": "fc60b09a",
   "metadata": {},
   "source": [
    "#### 2. Write a fun which will be able to print an index of all premitive element which you will pass."
   ]
  },
  {
   "cell_type": "code",
   "execution_count": 141,
   "id": "41cc07b6",
   "metadata": {},
   "outputs": [],
   "source": [
    "def get_index(a):\n",
    "    try:\n",
    "        for i in range(0,len(a)):\n",
    "            print(f'Index is {i} for {a[i]}')\n",
    "    except Exception as e:\n",
    "        print(e)"
   ]
  },
  {
   "cell_type": "code",
   "execution_count": 143,
   "id": "31ff70e0",
   "metadata": {},
   "outputs": [
    {
     "name": "stdout",
     "output_type": "stream",
     "text": [
      "Index is 0 for 1\n",
      "Index is 1 for 2\n",
      "Index is 2 for 3\n",
      "Index is 3 for 4\n",
      "Index is 4 for 5\n"
     ]
    }
   ],
   "source": [
    "get_index([1,2,3,4,5])"
   ]
  },
  {
   "cell_type": "markdown",
   "id": "7f00334e",
   "metadata": {},
   "source": [
    "#### 3. Write a fun which will take input as a dict and give me out as a list of all the values even in case of 2 level nesting it should work."
   ]
  },
  {
   "cell_type": "code",
   "execution_count": 192,
   "id": "275a1b54",
   "metadata": {},
   "outputs": [],
   "source": [
    "def get_list(d):\n",
    "    try:\n",
    "        l = []\n",
    "        if type(d) == dict:\n",
    "            for i in d:\n",
    "                l.append(d[i])\n",
    "                if type(d[i]) == dict:\n",
    "                    for j in d[i]:\n",
    "                        l.append(d[i][j])\n",
    "        else:\n",
    "            print(\"You have not entered a dict\")\n",
    "        return l\n",
    "    except Exception as e:\n",
    "        print(e)"
   ]
  },
  {
   "cell_type": "code",
   "execution_count": 193,
   "id": "6af2392e",
   "metadata": {},
   "outputs": [
    {
     "data": {
      "text/plain": [
       "[2, 'adi', 4, {'a': 1, 'b': 'eeeff'}, 1, 'eeeff']"
      ]
     },
     "execution_count": 193,
     "metadata": {},
     "output_type": "execute_result"
    }
   ],
   "source": [
    "get_list({\"k1\":2, \"k2\":\"adi\", \"k3\":4, \"k4\":{\"a\":1, \"b\":\"eeeff\"}})"
   ]
  },
  {
   "cell_type": "code",
   "execution_count": 206,
   "id": "c88e478e",
   "metadata": {},
   "outputs": [],
   "source": [
    "def get_list1(d):\n",
    "    try:\n",
    "        l = []\n",
    "        if type(d) == dict:\n",
    "            for i in d:\n",
    "                l.append(d[i])\n",
    "                a = d.values()\n",
    "                if type(a) == dict:\n",
    "                    for j in a:\n",
    "                        l.append(a[i])\n",
    "        else:\n",
    "            print(\"You have not entered a dict\")\n",
    "        return l\n",
    "    except Exception as e:\n",
    "        print(e)"
   ]
  },
  {
   "cell_type": "code",
   "execution_count": 207,
   "id": "d95a05cd",
   "metadata": {},
   "outputs": [
    {
     "data": {
      "text/plain": [
       "[2, 'adi', 4, {'a': 1, 'b': 'eeeff'}]"
      ]
     },
     "execution_count": 207,
     "metadata": {},
     "output_type": "execute_result"
    }
   ],
   "source": [
    "get_list1({\"k1\":2, \"k2\":\"adi\", \"k3\":4, \"k4\":{\"a\":1, \"b\":\"eeeff\"}})"
   ]
  },
  {
   "cell_type": "markdown",
   "id": "a48ae4e8",
   "metadata": {},
   "source": [
    "#### 4. Write a fun which will take another function as an input and return me an output"
   ]
  },
  {
   "cell_type": "code",
   "execution_count": 214,
   "id": "5eb30f2e",
   "metadata": {},
   "outputs": [],
   "source": [
    "def x1():\n",
    "    a = int(input(\"a = \"))\n",
    "    b = int(input(\"b = \"))\n",
    "    return a+b\n",
    "\n",
    "def x2(x1):\n",
    "    return x1()"
   ]
  },
  {
   "cell_type": "code",
   "execution_count": 215,
   "id": "f2c5f3c5",
   "metadata": {},
   "outputs": [
    {
     "name": "stdout",
     "output_type": "stream",
     "text": [
      "a = 3\n",
      "b = 4\n"
     ]
    },
    {
     "data": {
      "text/plain": [
       "7"
      ]
     },
     "execution_count": 215,
     "metadata": {},
     "output_type": "execute_result"
    }
   ],
   "source": [
    "x2(x1)"
   ]
  },
  {
   "cell_type": "markdown",
   "id": "c86be5aa",
   "metadata": {},
   "source": [
    "#### 5. Write a function which will take multiple list as a input and give me concatnation of all the element as one list"
   ]
  },
  {
   "cell_type": "code",
   "execution_count": 235,
   "id": "3111142c",
   "metadata": {},
   "outputs": [],
   "source": [
    "def list_concat(*args):\n",
    "    l = []\n",
    "    for i in args:\n",
    "        if type(l) == list:\n",
    "            l = l + i\n",
    "    return l"
   ]
  },
  {
   "cell_type": "code",
   "execution_count": 237,
   "id": "ac084aa4",
   "metadata": {},
   "outputs": [
    {
     "data": {
      "text/plain": [
       "[1, 2, 3, 4, 1, 2, 3, 4, 1, 2, 3, 4, 1, 2, 3, 4]"
      ]
     },
     "execution_count": 237,
     "metadata": {},
     "output_type": "execute_result"
    }
   ],
   "source": [
    "list_concat([1,2,3,4],[1,2,3,4],[1,2,3,4],[1,2,3,4])"
   ]
  },
  {
   "cell_type": "markdown",
   "id": "244f682b",
   "metadata": {},
   "source": [
    "#### 6. Write a function which will be able to take a list as an input return an index of each element like a inbuilt index function but even if we have repetative element it should return index "
   ]
  },
  {
   "cell_type": "code",
   "execution_count": 238,
   "id": "b0410abd",
   "metadata": {},
   "outputs": [],
   "source": [
    "def get_index(a):\n",
    "    try:\n",
    "        for i in range(0,len(a)):\n",
    "            print(f'Index is {i} for {a[i]}')\n",
    "    except Exception as e:\n",
    "        print(e)"
   ]
  },
  {
   "cell_type": "code",
   "execution_count": 239,
   "id": "abff3a7f",
   "metadata": {},
   "outputs": [
    {
     "name": "stdout",
     "output_type": "stream",
     "text": [
      "Index is 0 for 1\n",
      "Index is 1 for 2\n",
      "Index is 2 for 3\n",
      "Index is 3 for 3\n",
      "Index is 4 for 2\n"
     ]
    }
   ],
   "source": [
    "get_index([1,2,3,3,2])"
   ]
  },
  {
   "cell_type": "markdown",
   "id": "e59e940c",
   "metadata": {},
   "source": [
    "#### 7. Write a function which will whould return list of all the file name from a directory."
   ]
  },
  {
   "cell_type": "code",
   "execution_count": 245,
   "id": "0b470fcd",
   "metadata": {},
   "outputs": [],
   "source": [
    "import os\n",
    "\n",
    "def file_name():\n",
    "    a = input(\"Enter the path: \")\n",
    "    b = os.listdir(a)\n",
    "    return b"
   ]
  },
  {
   "cell_type": "code",
   "execution_count": 247,
   "id": "e949a73a",
   "metadata": {},
   "outputs": [
    {
     "name": "stdout",
     "output_type": "stream",
     "text": [
      "Enter the path: C:\\Users\\adity\\Downloads\\Notebooks\n"
     ]
    },
    {
     "data": {
      "text/plain": [
       "['.ipynb_checkpoints',\n",
       " '07 Functions_Revision (1).ipynb',\n",
       " '07 Functions_Revision.ipynb',\n",
       " 'for loops while loop.ipynb',\n",
       " 'Function and holiday task.ipynb',\n",
       " 'Function continued.ipynb',\n",
       " 'if else , for loop.ipynb',\n",
       " 'logging (1).ipynb',\n",
       " 'oops 29th .ipynb',\n",
       " 'oops class 1.ipynb',\n",
       " 'practice problem python basic.ipynb',\n",
       " 'Python basic (3).ipynb',\n",
       " 'Questions and Solutions.ipynb',\n",
       " 'Tuples , set , dict .ipynb']"
      ]
     },
     "execution_count": 247,
     "metadata": {},
     "output_type": "execute_result"
    }
   ],
   "source": [
    "file_name()"
   ]
  },
  {
   "cell_type": "markdown",
   "id": "922307e9",
   "metadata": {},
   "source": [
    "#### 8. Write a function which will be able to show your system configuration."
   ]
  },
  {
   "cell_type": "code",
   "execution_count": 2,
   "id": "54366df7",
   "metadata": {},
   "outputs": [
    {
     "name": "stdout",
     "output_type": "stream",
     "text": [
      "Collecting wmi\n",
      "  Downloading WMI-1.5.1-py2.py3-none-any.whl (28 kB)\n",
      "Requirement already satisfied: pywin32 in c:\\users\\adity\\anaconda3\\lib\\site-packages (from wmi) (228)\n",
      "Installing collected packages: wmi\n",
      "Successfully installed wmi-1.5.1\n",
      "Note: you may need to restart the kernel to use updated packages.\n"
     ]
    }
   ],
   "source": [
    "pip install wmi"
   ]
  },
  {
   "cell_type": "code",
   "execution_count": 3,
   "id": "ba157b0b",
   "metadata": {},
   "outputs": [],
   "source": [
    "import wmi"
   ]
  },
  {
   "cell_type": "code",
   "execution_count": 9,
   "id": "bba205d9",
   "metadata": {},
   "outputs": [],
   "source": [
    "def sys_config():\n",
    "    a = wmi.WMI()\n",
    "    sys = a.Win32_ComputerSystem()[0]\n",
    "    \n",
    "    print(f\"Manufacturer: {sys.Manufacturer}\")\n",
    "    print(f\"Model: {sys.Model}\")\n",
    "    print(f\"Name: {sys.Name}\")\n",
    "    print(f\"Number of Processors: {sys.NumberOfProcessors}\")\n",
    "    print(f\"System Type: {sys.SystemType}\")\n",
    "    print(f\"System Family: {sys.SystemFamily}\")"
   ]
  },
  {
   "cell_type": "code",
   "execution_count": 10,
   "id": "05fbb770",
   "metadata": {},
   "outputs": [
    {
     "name": "stdout",
     "output_type": "stream",
     "text": [
      "Manufacturer: Acer\n",
      "Model: Swift SF514-55TA\n",
      "Name: LAPTOP-FM16IB3Q\n",
      "Number of Processors: 1\n",
      "System Type: x64-based PC\n",
      "System Family: Swift 5\n"
     ]
    }
   ],
   "source": [
    "sys_config()"
   ]
  },
  {
   "cell_type": "markdown",
   "id": "65e6cb6f",
   "metadata": {},
   "source": [
    "#### 9. Write a function which will be able to show date and time. "
   ]
  },
  {
   "cell_type": "code",
   "execution_count": 17,
   "id": "03d6a4de",
   "metadata": {},
   "outputs": [],
   "source": [
    "import datetime\n",
    "\n",
    "def get_date_time():\n",
    "    a = datetime.datetime.now()\n",
    "    print(f\"Current Date and Time: {a.strftime('%Y-%m-%d %H:%M:%S')}\")"
   ]
  },
  {
   "cell_type": "code",
   "execution_count": 18,
   "id": "672a6aaf",
   "metadata": {},
   "outputs": [
    {
     "name": "stdout",
     "output_type": "stream",
     "text": [
      "Current Date and Time: 2022-02-07 16:45:17\n"
     ]
    }
   ],
   "source": [
    "get_date_time()"
   ]
  },
  {
   "cell_type": "markdown",
   "id": "14eab323",
   "metadata": {},
   "source": [
    "#### 10. Write a function which will be able to read a image file and show it to you."
   ]
  },
  {
   "cell_type": "code",
   "execution_count": 31,
   "id": "2bea8ccb",
   "metadata": {},
   "outputs": [
    {
     "name": "stdout",
     "output_type": "stream",
     "text": [
      "Requirement already satisfied: matplotlib in c:\\users\\adity\\anaconda3\\lib\\site-packages (3.4.3)\n",
      "Requirement already satisfied: python-dateutil>=2.7 in c:\\users\\adity\\anaconda3\\lib\\site-packages (from matplotlib) (2.8.2)\n",
      "Requirement already satisfied: numpy>=1.16 in c:\\users\\adity\\anaconda3\\lib\\site-packages (from matplotlib) (1.20.3)Note: you may need to restart the kernel to use updated packages.\n",
      "\n",
      "Requirement already satisfied: pillow>=6.2.0 in c:\\users\\adity\\anaconda3\\lib\\site-packages (from matplotlib) (8.4.0)\n",
      "Requirement already satisfied: kiwisolver>=1.0.1 in c:\\users\\adity\\anaconda3\\lib\\site-packages (from matplotlib) (1.3.1)\n",
      "Requirement already satisfied: pyparsing>=2.2.1 in c:\\users\\adity\\anaconda3\\lib\\site-packages (from matplotlib) (3.0.4)\n",
      "Requirement already satisfied: cycler>=0.10 in c:\\users\\adity\\anaconda3\\lib\\site-packages (from matplotlib) (0.10.0)\n",
      "Requirement already satisfied: six in c:\\users\\adity\\anaconda3\\lib\\site-packages (from cycler>=0.10->matplotlib) (1.16.0)\n"
     ]
    }
   ],
   "source": [
    "pip install matplotlib"
   ]
  },
  {
   "cell_type": "code",
   "execution_count": 1,
   "id": "691f1406",
   "metadata": {},
   "outputs": [],
   "source": [
    "import matplotlib.pyplot as plt\n",
    "import matplotlib.image as mpimg\n",
    "\n",
    "def get_image():\n",
    "    a = input(\"Enter a image path: \")\n",
    "    b = mpimg.imread(a)\n",
    "    implot = plt.imshow(b)\n",
    "    plt.show()"
   ]
  },
  {
   "cell_type": "code",
   "execution_count": 2,
   "id": "cb9998da",
   "metadata": {},
   "outputs": [
    {
     "name": "stdout",
     "output_type": "stream",
     "text": [
      "Enter a image path: C:\\Users\\adity\\Pictures\\Wallpaper\\pexels-huseyn-kamaladdin-667838.jpg\n"
     ]
    },
    {
     "data": {
      "image/png": "[encoded data removed]",
      "text/plain": [
       "<Figure size 432x288 with 1 Axes>"
      ]
     },
     "metadata": {
      "needs_background": "light"
     },
     "output_type": "display_data"
    }
   ],
   "source": [
    "get_image()"
   ]
  },
  {
   "cell_type": "markdown",
   "id": "cf4c470b",
   "metadata": {},
   "source": [
    "#### 11. Write a function which can read video file and play for you ."
   ]
  },
  {
   "cell_type": "code",
   "execution_count": 2,
   "id": "78149f65",
   "metadata": {},
   "outputs": [],
   "source": [
    "import cv2\n",
    "import numpy as np\n",
    "\n",
    "def play_video():\n",
    "    a = input(\"Enter video path: \")\n",
    "    cap = cv2.VideoCapture(a)\n",
    "    \n",
    "    if (cap.isOpened() == False):\n",
    "        print(\"Error opening video file\")\n",
    "    \n",
    "    while(cap.isOpened()):\n",
    "        ret, frame = cap.read()\n",
    "        if ret == True:\n",
    "            cv2.imshow(\"Frame\", frame)\n",
    "            if cv2.waitKey(25) & 0xFF == ord('q'):\n",
    "                break\n",
    "        else:\n",
    "            break\n",
    "    \n",
    "    cap.release()\n",
    "    cv2.destroyAllWindows()"
   ]
  },
  {
   "cell_type": "code",
   "execution_count": 4,
   "id": "3cbfab2a",
   "metadata": {},
   "outputs": [
    {
     "name": "stdout",
     "output_type": "stream",
     "text": [
      "Enter video path: C:\\Users\\adity\\Desktop\\Rocket.Boys.S01.COMPLETE.1080p.SonyLiv.10bit.2CH.x265.[HashMiner]\\Rocket.Boys.S01E01.War.And.Peace.1080p.SonyLiv.10bit.2CH.x265.[HashMiner].mkv\n"
     ]
    }
   ],
   "source": [
    "play_video()"
   ]
  },
  {
   "cell_type": "markdown",
   "id": "b20e6185",
   "metadata": {},
   "source": [
    "#### 12. Write a function which can move a file from one directory to another directory."
   ]
  },
  {
   "cell_type": "code",
   "execution_count": 23,
   "id": "3aa8aac5",
   "metadata": {},
   "outputs": [],
   "source": [
    "import shutil\n",
    "\n",
    "def move_file():\n",
    "    source = input(\"Source: \")\n",
    "    destination = input(\"Destination: \")\n",
    "    \n",
    "    shutil.move(source,destination)"
   ]
  },
  {
   "cell_type": "markdown",
   "id": "d15fcb15",
   "metadata": {},
   "source": [
    "#### 13. Write a function which will be able to shutdown your system."
   ]
  },
  {
   "cell_type": "code",
   "execution_count": 27,
   "id": "bb7da478",
   "metadata": {},
   "outputs": [],
   "source": [
    "import os\n",
    "\n",
    "#def shutdown():\n",
    "    shut_down = input(\"Do you wish to shutdown your system? (y/n): \")\n",
    "    \n",
    "    if shut_down == n:\n",
    "        exit()\n",
    "    else:\n",
    "        os.system(\"shutdown /s /t 1\")"
   ]
  },
  {
   "cell_type": "markdown",
   "id": "75adec8c",
   "metadata": {},
   "source": [
    "#### 14. Write a function which will be able to access your mail. "
   ]
  },
  {
   "cell_type": "code",
   "execution_count": null,
   "id": "9ddeb007",
   "metadata": {},
   "outputs": [],
   "source": []
  },
  {
   "cell_type": "markdown",
   "id": "88ce7e30",
   "metadata": {},
   "source": [
    "#### 15. Write a func by which i can send a mail to anyone."
   ]
  },
  {
   "cell_type": "code",
   "execution_count": null,
   "id": "b88a568b",
   "metadata": {},
   "outputs": [],
   "source": []
  },
  {
   "cell_type": "markdown",
   "id": "4b23bb2d",
   "metadata": {},
   "source": [
    "#### 16. Write a func to read a complete PDf file."
   ]
  },
  {
   "cell_type": "code",
   "execution_count": 6,
   "id": "d0e64ed8",
   "metadata": {},
   "outputs": [
    {
     "name": "stdout",
     "output_type": "stream",
     "text": [
      "Collecting PyPDF2\n",
      "  Downloading PyPDF2-1.26.0.tar.gz (77 kB)\n",
      "Building wheels for collected packages: PyPDF2\n",
      "  Building wheel for PyPDF2 (setup.py): started\n",
      "  Building wheel for PyPDF2 (setup.py): finished with status 'done'\n",
      "  Created wheel for PyPDF2: filename=PyPDF2-1.26.0-py3-none-any.whl size=61101 sha256=8da1c520022b9412e72bd23e715512d8022723082128bc5b7a7896598b4329cc\n",
      "  Stored in directory: c:\\users\\adity\\appdata\\local\\pip\\cache\\wheels\\d9\\dc\\ec\\72da68331f30074b9950c1737c23cb8a67484e61498bc9713d\n",
      "Successfully built PyPDF2\n",
      "Installing collected packages: PyPDF2\n",
      "Successfully installed PyPDF2-1.26.0\n",
      "Note: you may need to restart the kernel to use updated packages.\n"
     ]
    }
   ],
   "source": [
    "pip install PyPDF2"
   ]
  },
  {
   "cell_type": "code",
   "execution_count": 7,
   "id": "d0ee3efb",
   "metadata": {},
   "outputs": [],
   "source": [
    "from PyPDF2 import PdfFileReader\n",
    "\n",
    "def read_pdf():\n",
    "    a = input(\"Enter the PDF path: \")\n",
    "    temp = open(a, 'rb')\n",
    "    pdf_read = PdfFileReader(temp)\n",
    "    first_page = pdf_read.getPage(0)\n",
    "    print(first_page.extractText())"
   ]
  },
  {
   "cell_type": "code",
   "execution_count": 8,
   "id": "f5ad70e1",
   "metadata": {},
   "outputs": [
    {
     "name": "stdout",
     "output_type": "stream",
     "text": [
      "Enter the PDF path: C:\\Users\\adity\\Downloads\\Aditya Jaiswal CV.pdf\n",
      " \n",
      "Aditya\n",
      " \n",
      "Jaiswal\n",
      " \n",
      "Phone:\n",
      " \n",
      "+918447118408\n",
      " \n",
      "Email:\n",
      " \n",
      "adityajaiswal.du.or.19@gmail.com\n",
      " \n",
      "LinkedIn\n",
      ": \n",
      "https://www.linkedin.com/in/aditya\n",
      "-\n",
      "jaiswal\n",
      "-\n",
      "ba1ba1a0\n",
      " \n",
      "Skill\n",
      "s\n",
      " \n",
      "\n",
      " \n",
      "P\n",
      "ower BI\n",
      " \n",
      "\n",
      " \n",
      "S\n",
      "QL\n",
      " \n",
      "\n",
      " \n",
      "Microsoft Excel\n",
      " \n",
      "\n",
      " \n",
      "SPSS\n",
      " \n",
      "\n",
      " \n",
      "Python \n",
      " \n",
      "\n",
      " \n",
      "Wincross\n",
      " \n",
      "Experience\n",
      " \n",
      "Business Analyst\n",
      " \n",
      " \n",
      " \n",
      " \n",
      " \n",
      " \n",
      " \n",
      " \n",
      " \n",
      " \n",
      "       \n",
      "     \n",
      "    \n",
      "(\n",
      "Jul \n",
      "20\n",
      "21\n",
      " \n",
      "-\n",
      " \n",
      "Present\n",
      ")\n",
      " \n",
      "MetLife Global Operations Support Center, \n",
      "Noida\n",
      " \n",
      "\n",
      " \n",
      "\n",
      "\n",
      " \n",
      "\n",
      " \n",
      "Create Post Enrollment Report which measures the effectiveness of a marketing or enrollment campaign\n",
      " \n",
      "\n",
      " \n",
      "Deliver standard reports \n",
      "by \n",
      "working \n",
      "on\n",
      " \n",
      "large dataset\n",
      "s\n",
      " \n",
      "\n",
      " \n",
      "\n",
      " \n",
      "Create dashboards to present monthly, quarterly and annual results to the \n",
      "clients\n",
      " \n",
      "\n",
      " \n",
      "Communicate with functional stakeholders to identify, define and document business needs and objectives\n",
      " \n",
      " \n",
      "Associate\n",
      " \n",
      " \n",
      " \n",
      " \n",
      " \n",
      " \n",
      " \n",
      " \n",
      " \n",
      " \n",
      " \n",
      " \n",
      "      \n",
      "      \n",
      "  \n",
      "(Nov 2019\n",
      " \n",
      "-\n",
      " \n",
      "Jul 2021)\n",
      " \n",
      "Gerson Lehrman Group (GLG), \n",
      "Gurugram\n",
      " \n",
      "\n",
      " \n",
      "Create reports based on survey data and analyze results\n",
      " \n",
      "to form clear narratives\n",
      " \n",
      "\n",
      " \n",
      "Collaborate and coordinate with internal and external stakeholders\n",
      " \n",
      "\n",
      " \n",
      "Understand, transform, and analyze raw market research data into key insights\n",
      " \n",
      "\n",
      " \n",
      "Worked on various projects from domains such as life sciences, tech, \n",
      "corporate, finance, and retail industry\n",
      " \n",
      "\n",
      " \n",
      "Contributed to client meetings to understand project requirements at both functional and technical level\n",
      " \n",
      "\n",
      " \n",
      "Generate and deliver ad\n",
      "-\n",
      "\n",
      " \n",
      "\n",
      " \n",
      "Transformed an existing code to \n",
      "streamline a project to enhance efficiency\n",
      " \n",
      "Education\n",
      " \n",
      "\n",
      " \n",
      "Master\n",
      " \n",
      "of Science: \n",
      "Applied Operational Research\n",
      " \n",
      " \n",
      " \n",
      " \n",
      " \n",
      "         \n",
      "                                  \n",
      " \n",
      "(2017 \n",
      "\n",
      " \n",
      "2019)\n",
      " \n",
      "South Campus, University of Delhi\n",
      " \n",
      " \n",
      "\n",
      " \n",
      "Bachelor of Science: \n",
      "Mathematics\n",
      " \n",
      " \n",
      " \n",
      " \n",
      " \n",
      " \n",
      " \n",
      " \n",
      "      \n",
      " \n",
      "  \n",
      "  \n",
      " \n",
      "(2013 \n",
      "\n",
      " \n",
      "2016)\n",
      " \n",
      "KiroriMal\n",
      " \n",
      "College, University of Delhi\n",
      " \n",
      "Extra\n",
      "-\n",
      "Curricular\n",
      " \n",
      "Activities\n",
      " \n",
      "\n",
      " \n",
      "Participated in \n",
      "vario\n",
      "us \n",
      "S\n",
      "ocial Im\n",
      "p\n",
      "a\n",
      "ct \n",
      "ac\n",
      "tivities\n",
      " \n",
      "in Gerson Lehrman Group\n",
      " \n",
      "\n",
      " \n",
      "Organizing head for Q\n",
      "azi Zameeruddin lecture held on February 2016 in Kirori Mal College, University of Delhi\n",
      " \n",
      "\n",
      " \n",
      "Organizing committee member of SUPREMUM 2014 and SUPREMUM 2016, the Annual Mathematics Festival of \n",
      "Kirori Mal College, University of Delhi\n",
      " \n",
      "\n",
      " \n",
      "Volunteer for Systematic Vot\n",
      "er's Education and Electoral Participation in Delhi Assembly Election organized in D.U. \n",
      "Campus \n",
      " \n",
      " \n",
      " \n",
      " \n",
      " \n",
      "\n"
     ]
    }
   ],
   "source": [
    "read_pdf()"
   ]
  },
  {
   "cell_type": "markdown",
   "id": "d8a1174e",
   "metadata": {},
   "source": [
    "#### 17. Write a function to read a word file."
   ]
  },
  {
   "cell_type": "code",
   "execution_count": null,
   "id": "0c4a0430",
   "metadata": {},
   "outputs": [],
   "source": []
  },
  {
   "cell_type": "markdown",
   "id": "e4ca6b12",
   "metadata": {},
   "source": [
    "#### 18. Write a function which can help you to filter only word file from a directory ."
   ]
  },
  {
   "cell_type": "code",
   "execution_count": null,
   "id": "4e04fc13",
   "metadata": {},
   "outputs": [],
   "source": []
  },
  {
   "cell_type": "markdown",
   "id": "5fcdcebb",
   "metadata": {},
   "source": [
    "#### 19. Write a function by which you can print an ip address of your system . "
   ]
  },
  {
   "cell_type": "code",
   "execution_count": null,
   "id": "72540fb0",
   "metadata": {},
   "outputs": [],
   "source": []
  },
  {
   "cell_type": "markdown",
   "id": "40ab1ade",
   "metadata": {},
   "source": [
    "#### 20.  Write a function by which you will be able to append two PDF files . "
   ]
  },
  {
   "cell_type": "code",
   "execution_count": null,
   "id": "da935987",
   "metadata": {},
   "outputs": [],
   "source": []
  }
 ],
 "metadata": {
  "kernelspec": {
   "display_name": "Python 3 (ipykernel)",
   "language": "python",
   "name": "python3"
  },
  "language_info": {
   "codemirror_mode": {
    "name": "ipython",
    "version": 3
   },
   "file_extension": ".py",
   "mimetype": "text/x-python",
   "name": "python",
   "nbconvert_exporter": "python",
   "pygments_lexer": "ipython3",
   "version": "3.9.7"
  }
 },
 "nbformat": 4,
 "nbformat_minor": 5
}
